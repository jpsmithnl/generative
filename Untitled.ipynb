{
 "cells": [
  {
   "cell_type": "code",
   "execution_count": 2,
   "id": "f9b8020d-4e04-49c4-977b-c283688a6be6",
   "metadata": {},
   "outputs": [
    {
     "ename": "ImportError",
     "evalue": "Failed to load CairoSVG. drawSvg will be unable to output PNG or other raster image formats. See https://github.com/cduck/drawsvg#full-feature-install for more details.",
     "output_type": "error",
     "traceback": [
      "\u001b[1;31m---------------------------------------------------------------------------\u001b[0m",
      "\u001b[1;31mOSError\u001b[0m                                   Traceback (most recent call last)",
      "File \u001b[1;32m~\\AppData\\Local\\pypoetry\\Cache\\virtualenvs\\generative-JT5au1mW-py3.10\\lib\\site-packages\\drawsvg\\raster.py:9\u001b[0m, in \u001b[0;36mdelay_import_cairo\u001b[1;34m()\u001b[0m\n\u001b[0;32m      8\u001b[0m \u001b[38;5;28;01mtry\u001b[39;00m:\n\u001b[1;32m----> 9\u001b[0m     \u001b[38;5;28;01mimport\u001b[39;00m \u001b[38;5;21;01mcairosvg\u001b[39;00m\n\u001b[0;32m     10\u001b[0m \u001b[38;5;28;01mexcept\u001b[39;00m \u001b[38;5;167;01mOSError\u001b[39;00m \u001b[38;5;28;01mas\u001b[39;00m e:\n",
      "File \u001b[1;32m~\\AppData\\Local\\pypoetry\\Cache\\virtualenvs\\generative-JT5au1mW-py3.10\\lib\\site-packages\\cairosvg\\__init__.py:26\u001b[0m\n\u001b[0;32m     25\u001b[0m \u001b[38;5;66;03m# VERSION is used in the \"url\" module imported by \"surface\"\u001b[39;00m\n\u001b[1;32m---> 26\u001b[0m \u001b[38;5;28;01mfrom\u001b[39;00m \u001b[38;5;21;01m.\u001b[39;00m \u001b[38;5;28;01mimport\u001b[39;00m surface  \u001b[38;5;66;03m# noqa isort:skip\u001b[39;00m\n\u001b[0;32m     29\u001b[0m SURFACES \u001b[38;5;241m=\u001b[39m {\n\u001b[0;32m     30\u001b[0m     \u001b[38;5;124m'\u001b[39m\u001b[38;5;124mPDF\u001b[39m\u001b[38;5;124m'\u001b[39m: surface\u001b[38;5;241m.\u001b[39mPDFSurface,\n\u001b[0;32m     31\u001b[0m     \u001b[38;5;124m'\u001b[39m\u001b[38;5;124mPNG\u001b[39m\u001b[38;5;124m'\u001b[39m: surface\u001b[38;5;241m.\u001b[39mPNGSurface,\n\u001b[1;32m   (...)\u001b[0m\n\u001b[0;32m     34\u001b[0m     \u001b[38;5;124m'\u001b[39m\u001b[38;5;124mSVG\u001b[39m\u001b[38;5;124m'\u001b[39m: surface\u001b[38;5;241m.\u001b[39mSVGSurface,\n\u001b[0;32m     35\u001b[0m }\n",
      "File \u001b[1;32m~\\AppData\\Local\\pypoetry\\Cache\\virtualenvs\\generative-JT5au1mW-py3.10\\lib\\site-packages\\cairosvg\\surface.py:9\u001b[0m\n\u001b[0;32m      7\u001b[0m \u001b[38;5;28;01mimport\u001b[39;00m \u001b[38;5;21;01mio\u001b[39;00m\n\u001b[1;32m----> 9\u001b[0m \u001b[38;5;28;01mimport\u001b[39;00m \u001b[38;5;21;01mcairocffi\u001b[39;00m \u001b[38;5;28;01mas\u001b[39;00m \u001b[38;5;21;01mcairo\u001b[39;00m\n\u001b[0;32m     11\u001b[0m \u001b[38;5;28;01mfrom\u001b[39;00m \u001b[38;5;21;01m.\u001b[39;00m\u001b[38;5;21;01mcolors\u001b[39;00m \u001b[38;5;28;01mimport\u001b[39;00m color, negate_color\n",
      "File \u001b[1;32m~\\AppData\\Local\\pypoetry\\Cache\\virtualenvs\\generative-JT5au1mW-py3.10\\lib\\site-packages\\cairocffi\\__init__.py:48\u001b[0m\n\u001b[0;32m     45\u001b[0m     \u001b[38;5;28;01mraise\u001b[39;00m \u001b[38;5;167;01mOSError\u001b[39;00m(error_message)  \u001b[38;5;66;03m# pragma: no cover\u001b[39;00m\n\u001b[1;32m---> 48\u001b[0m cairo \u001b[38;5;241m=\u001b[39m \u001b[43mdlopen\u001b[49m\u001b[43m(\u001b[49m\n\u001b[0;32m     49\u001b[0m \u001b[43m    \u001b[49m\u001b[43mffi\u001b[49m\u001b[43m,\u001b[49m\u001b[43m \u001b[49m\u001b[43m(\u001b[49m\u001b[38;5;124;43m'\u001b[39;49m\u001b[38;5;124;43mcairo-2\u001b[39;49m\u001b[38;5;124;43m'\u001b[39;49m\u001b[43m,\u001b[49m\u001b[43m \u001b[49m\u001b[38;5;124;43m'\u001b[39;49m\u001b[38;5;124;43mcairo\u001b[39;49m\u001b[38;5;124;43m'\u001b[39;49m\u001b[43m,\u001b[49m\u001b[43m \u001b[49m\u001b[38;5;124;43m'\u001b[39;49m\u001b[38;5;124;43mlibcairo-2\u001b[39;49m\u001b[38;5;124;43m'\u001b[39;49m\u001b[43m)\u001b[49m\u001b[43m,\u001b[49m\n\u001b[0;32m     50\u001b[0m \u001b[43m    \u001b[49m\u001b[43m(\u001b[49m\u001b[38;5;124;43m'\u001b[39;49m\u001b[38;5;124;43mlibcairo.so.2\u001b[39;49m\u001b[38;5;124;43m'\u001b[39;49m\u001b[43m,\u001b[49m\u001b[43m \u001b[49m\u001b[38;5;124;43m'\u001b[39;49m\u001b[38;5;124;43mlibcairo.2.dylib\u001b[39;49m\u001b[38;5;124;43m'\u001b[39;49m\u001b[43m,\u001b[49m\u001b[43m \u001b[49m\u001b[38;5;124;43m'\u001b[39;49m\u001b[38;5;124;43mlibcairo-2.dll\u001b[39;49m\u001b[38;5;124;43m'\u001b[39;49m\u001b[43m)\u001b[49m\u001b[43m)\u001b[49m\n\u001b[0;32m     53\u001b[0m \u001b[38;5;28;01mclass\u001b[39;00m \u001b[38;5;21;01m_keepref\u001b[39;00m(\u001b[38;5;28mobject\u001b[39m):\n",
      "File \u001b[1;32m~\\AppData\\Local\\pypoetry\\Cache\\virtualenvs\\generative-JT5au1mW-py3.10\\lib\\site-packages\\cairocffi\\__init__.py:45\u001b[0m, in \u001b[0;36mdlopen\u001b[1;34m(ffi, library_names, filenames)\u001b[0m\n\u001b[0;32m     43\u001b[0m error_message \u001b[38;5;241m=\u001b[39m \u001b[38;5;124m'\u001b[39m\u001b[38;5;130;01m\\n\u001b[39;00m\u001b[38;5;124m'\u001b[39m\u001b[38;5;241m.\u001b[39mjoin(  \u001b[38;5;66;03m# pragma: no cover\u001b[39;00m\n\u001b[0;32m     44\u001b[0m     \u001b[38;5;28mstr\u001b[39m(exception) \u001b[38;5;28;01mfor\u001b[39;00m exception \u001b[38;5;129;01min\u001b[39;00m exceptions)\n\u001b[1;32m---> 45\u001b[0m \u001b[38;5;28;01mraise\u001b[39;00m \u001b[38;5;167;01mOSError\u001b[39;00m(error_message)\n",
      "\u001b[1;31mOSError\u001b[0m: no library called \"cairo-2\" was found\nno library called \"cairo\" was found\ncannot load library 'libcairo-2.dll': error 0x7e\ncannot load library 'libcairo.so.2': error 0x7e\ncannot load library 'libcairo.2.dylib': error 0x7e\ncannot load library 'libcairo-2.dll': error 0x7e",
      "\nThe above exception was the direct cause of the following exception:\n",
      "\u001b[1;31mImportError\u001b[0m                               Traceback (most recent call last)",
      "Cell \u001b[1;32mIn[2], line 14\u001b[0m\n\u001b[0;32m     11\u001b[0m d\u001b[38;5;241m.\u001b[39mappend(line)\n\u001b[0;32m     13\u001b[0m \u001b[38;5;66;03m# Display in Jupyter notebook\u001b[39;00m\n\u001b[1;32m---> 14\u001b[0m \u001b[43md\u001b[49m\u001b[38;5;241;43m.\u001b[39;49m\u001b[43mrasterize\u001b[49m\u001b[43m(\u001b[49m\u001b[43m)\u001b[49m  \u001b[38;5;66;03m# Display as PNG\u001b[39;00m\n\u001b[0;32m     15\u001b[0m d  \u001b[38;5;66;03m# Display as SVG\u001b[39;00m\n",
      "File \u001b[1;32m~\\AppData\\Local\\pypoetry\\Cache\\virtualenvs\\generative-JT5au1mW-py3.10\\lib\\site-packages\\drawsvg\\drawing.py:343\u001b[0m, in \u001b[0;36mDrawing.rasterize\u001b[1;34m(self, to_file, context)\u001b[0m\n\u001b[0;32m    340\u001b[0m     \u001b[38;5;28;01mreturn\u001b[39;00m raster\u001b[38;5;241m.\u001b[39mRaster\u001b[38;5;241m.\u001b[39mfrom_svg_to_file(\n\u001b[0;32m    341\u001b[0m             \u001b[38;5;28mself\u001b[39m\u001b[38;5;241m.\u001b[39mas_svg(context\u001b[38;5;241m=\u001b[39mcontext), to_file)\n\u001b[0;32m    342\u001b[0m \u001b[38;5;28;01melse\u001b[39;00m:\n\u001b[1;32m--> 343\u001b[0m     \u001b[38;5;28;01mreturn\u001b[39;00m \u001b[43mraster\u001b[49m\u001b[38;5;241;43m.\u001b[39;49m\u001b[43mRaster\u001b[49m\u001b[38;5;241;43m.\u001b[39;49m\u001b[43mfrom_svg\u001b[49m\u001b[43m(\u001b[49m\u001b[38;5;28;43mself\u001b[39;49m\u001b[38;5;241;43m.\u001b[39;49m\u001b[43mas_svg\u001b[49m\u001b[43m(\u001b[49m\u001b[43mcontext\u001b[49m\u001b[38;5;241;43m=\u001b[39;49m\u001b[43mcontext\u001b[49m\u001b[43m)\u001b[49m\u001b[43m)\u001b[49m\n",
      "File \u001b[1;32m~\\AppData\\Local\\pypoetry\\Cache\\virtualenvs\\generative-JT5au1mW-py3.10\\lib\\site-packages\\drawsvg\\raster.py:51\u001b[0m, in \u001b[0;36mRaster.from_svg\u001b[1;34m(svg_data)\u001b[0m\n\u001b[0;32m     49\u001b[0m \u001b[38;5;129m@staticmethod\u001b[39m\n\u001b[0;32m     50\u001b[0m \u001b[38;5;28;01mdef\u001b[39;00m \u001b[38;5;21mfrom_svg\u001b[39m(svg_data):\n\u001b[1;32m---> 51\u001b[0m     cairosvg \u001b[38;5;241m=\u001b[39m \u001b[43mdelay_import_cairo\u001b[49m\u001b[43m(\u001b[49m\u001b[43m)\u001b[49m\n\u001b[0;32m     52\u001b[0m     png_data \u001b[38;5;241m=\u001b[39m cairosvg\u001b[38;5;241m.\u001b[39msvg2png(bytestring\u001b[38;5;241m=\u001b[39msvg_data)\n\u001b[0;32m     53\u001b[0m     \u001b[38;5;28;01mreturn\u001b[39;00m Raster(png_data)\n",
      "File \u001b[1;32m~\\AppData\\Local\\pypoetry\\Cache\\virtualenvs\\generative-JT5au1mW-py3.10\\lib\\site-packages\\drawsvg\\raster.py:11\u001b[0m, in \u001b[0;36mdelay_import_cairo\u001b[1;34m()\u001b[0m\n\u001b[0;32m      9\u001b[0m     \u001b[38;5;28;01mimport\u001b[39;00m \u001b[38;5;21;01mcairosvg\u001b[39;00m\n\u001b[0;32m     10\u001b[0m \u001b[38;5;28;01mexcept\u001b[39;00m \u001b[38;5;167;01mOSError\u001b[39;00m \u001b[38;5;28;01mas\u001b[39;00m e:\n\u001b[1;32m---> 11\u001b[0m     \u001b[38;5;28;01mraise\u001b[39;00m \u001b[38;5;167;01mImportError\u001b[39;00m(\n\u001b[0;32m     12\u001b[0m         \u001b[38;5;124m'\u001b[39m\u001b[38;5;124mFailed to load CairoSVG. \u001b[39m\u001b[38;5;124m'\u001b[39m\n\u001b[0;32m     13\u001b[0m         \u001b[38;5;124m'\u001b[39m\u001b[38;5;124mdrawSvg will be unable to output PNG or other raster image \u001b[39m\u001b[38;5;124m'\u001b[39m\n\u001b[0;32m     14\u001b[0m         \u001b[38;5;124m'\u001b[39m\u001b[38;5;124mformats. \u001b[39m\u001b[38;5;124m'\u001b[39m\n\u001b[0;32m     15\u001b[0m         \u001b[38;5;124m'\u001b[39m\u001b[38;5;124mSee https://github.com/cduck/drawsvg#full-feature-install \u001b[39m\u001b[38;5;124m'\u001b[39m\n\u001b[0;32m     16\u001b[0m         \u001b[38;5;124m'\u001b[39m\u001b[38;5;124mfor more details.\u001b[39m\u001b[38;5;124m'\u001b[39m\n\u001b[0;32m     17\u001b[0m     ) \u001b[38;5;28;01mfrom\u001b[39;00m \u001b[38;5;21;01me\u001b[39;00m\n\u001b[0;32m     18\u001b[0m \u001b[38;5;28;01mexcept\u001b[39;00m \u001b[38;5;167;01mImportError\u001b[39;00m \u001b[38;5;28;01mas\u001b[39;00m e:\n\u001b[0;32m     19\u001b[0m     \u001b[38;5;28;01mraise\u001b[39;00m \u001b[38;5;167;01mImportError\u001b[39;00m(\n\u001b[0;32m     20\u001b[0m         \u001b[38;5;124m'\u001b[39m\u001b[38;5;124mCairoSVG will need to be installed to rasterize images. \u001b[39m\u001b[38;5;124m'\u001b[39m\n\u001b[0;32m     21\u001b[0m         \u001b[38;5;124m'\u001b[39m\u001b[38;5;124mInstall with `python3 -m pip install \u001b[39m\u001b[38;5;124m\"\u001b[39m\u001b[38;5;124mdrawsvg[all]\u001b[39m\u001b[38;5;124m\"\u001b[39m\u001b[38;5;124m` \u001b[39m\u001b[38;5;124m'\u001b[39m\n\u001b[1;32m   (...)\u001b[0m\n\u001b[0;32m     24\u001b[0m         \u001b[38;5;124m'\u001b[39m\u001b[38;5;124mfor more details.\u001b[39m\u001b[38;5;124m'\u001b[39m\n\u001b[0;32m     25\u001b[0m     ) \u001b[38;5;28;01mfrom\u001b[39;00m \u001b[38;5;21;01me\u001b[39;00m\n",
      "\u001b[1;31mImportError\u001b[0m: Failed to load CairoSVG. drawSvg will be unable to output PNG or other raster image formats. See https://github.com/cduck/drawsvg#full-feature-install for more details."
     ]
    }
   ],
   "source": [
    "import drawsvg as draw\n",
    "\n",
    "d = draw.Drawing(200, 100, origin='center', displayInline=False)\n",
    "line = draw.Lines(-80, -45,\n",
    "                    70, -49,\n",
    "                    95, 49,\n",
    "                    -90, 40,\n",
    "                    close=False,\n",
    "            fill_opacity=0.0,\n",
    "            stroke='lime')\n",
    "d.append(line)\n",
    "\n",
    "# Display in Jupyter notebook\n",
    "d.rasterize()  # Display as PNG\n",
    "d  # Display as SVG"
   ]
  },
  {
   "cell_type": "code",
   "execution_count": null,
   "id": "2649dc85-9b14-417f-bf8d-c4e1e4573583",
   "metadata": {},
   "outputs": [],
   "source": []
  },
  {
   "cell_type": "code",
   "execution_count": null,
   "id": "842c1eb7-5a99-479c-bc88-505c3cc06b3a",
   "metadata": {},
   "outputs": [],
   "source": []
  }
 ],
 "metadata": {
  "kernelspec": {
   "display_name": "generative",
   "language": "python",
   "name": "generative"
  },
  "language_info": {
   "codemirror_mode": {
    "name": "ipython",
    "version": 3
   },
   "file_extension": ".py",
   "mimetype": "text/x-python",
   "name": "python",
   "nbconvert_exporter": "python",
   "pygments_lexer": "ipython3",
   "version": "3.10.5"
  }
 },
 "nbformat": 4,
 "nbformat_minor": 5
}
